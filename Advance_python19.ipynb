{
 "cells": [
  {
   "cell_type": "markdown",
   "id": "2018192a",
   "metadata": {},
   "source": [
    "Q1. Define the relationship between a class and its instances. Is it a one-to-one or a one-to-many partnership, for example?\n",
    "\n",
    "Q2. What kind of data is held only in an instance?\n",
    "\n",
    "Q3. What kind of knowledge is stored in a class?\n",
    "\n",
    "Q4. What exactly is a method, and how is it different from a regular function?\n",
    "\n",
    "Q5. Is inheritance supported in Python, and if so, what is the syntax?\n",
    "\n",
    "Q6. How much encapsulation (making instance or class variables private) does Python support?\n",
    "\n",
    "Q7. How do you distinguish between a class variable and an instance variable?\n",
    "\n",
    "Q8. When, if ever, can self be included in a class's method definitions?\n",
    "\n",
    "Q9. What is the difference between the _ _add_ _ and the _ _radd_ _ methods?\n",
    "\n",
    "Q10. When is it necessary to use a reflection method? When do you not need it, even though you support the operation in question?\n",
    "\n",
    "Q11. What is the _ _iadd_ _ method called?\n",
    "\n",
    "Q12. Is the _ _init_ _ method inherited by subclasses? What do you do if you need to customize its behavior within a subclass?"
   ]
  },
  {
   "cell_type": "markdown",
   "id": "3d7dc38e",
   "metadata": {},
   "source": [
    "Q1. Define the relationship between a class and its instances. Is it a one-to-one or a one-to-many partnership, for example?"
   ]
  },
  {
   "cell_type": "code",
   "execution_count": 1,
   "id": "c81e049a",
   "metadata": {},
   "outputs": [
    {
     "name": "stdout",
     "output_type": "stream",
     "text": [
      "Rachit\n",
      "Ankur\n",
      "Welcome Rachit\n"
     ]
    }
   ],
   "source": [
    "# Class is the blue print of instance we can create as many instance with the same class \n",
    "class Person:\n",
    "    def __init__(self,name,age):\n",
    "        self.name = name\n",
    "        self.age = age\n",
    "    \n",
    "    def greet(self):\n",
    "        return f\"Welcome {self.name}\"\n",
    "    \n",
    "\n",
    "p1 = Person(\"Rachit\", 25)#This is first instance of class Person\n",
    "p2 = Person(\"Ankur\", 25)#This is Second instance of class person\n",
    "\n",
    "print(p1.name)\n",
    "print(p2.name)\n",
    "print(p1.greet())\n",
    "        "
   ]
  },
  {
   "cell_type": "markdown",
   "id": "f03f5e13",
   "metadata": {},
   "source": [
    "Q2. What kind of data is held only in an instance?"
   ]
  },
  {
   "cell_type": "markdown",
   "id": "12c7b25e",
   "metadata": {},
   "source": [
    "Instance objects contains the Instance variables which are specific to that specific Instance object."
   ]
  },
  {
   "cell_type": "markdown",
   "id": "8556f83c",
   "metadata": {},
   "source": [
    "Q3. What kind of knowledge is stored in a class?"
   ]
  },
  {
   "cell_type": "markdown",
   "id": "2c8fc923",
   "metadata": {},
   "source": [
    "Class creates a user-defined data structure, which holds its own data members and member functions, which can be accessed and used by creating an instance of that class. A class is like a blueprint for an object."
   ]
  },
  {
   "cell_type": "markdown",
   "id": "327478eb",
   "metadata": {},
   "source": [
    "Q4. What exactly is a method, and how is it different from a regular function?"
   ]
  },
  {
   "cell_type": "markdown",
   "id": "66e91abe",
   "metadata": {},
   "source": [
    " The methods with a class can be used to access the insatnce variables of its instance. So,the object's state can be modified by its method. Function can't access the attributes of an instance of a class or can't modify the state of the object."
   ]
  },
  {
   "cell_type": "markdown",
   "id": "35f56d67",
   "metadata": {},
   "source": [
    "Q5. Is inheritance supported in Python, and if so, what is the syntax?"
   ]
  },
  {
   "cell_type": "markdown",
   "id": "13476201",
   "metadata": {},
   "source": [
    "Yes,Python supports inheritance. The Types of Inheritence Supported by Python are:\n",
    "\n",
    "Simple Inheritence\n",
    "Multiple Inheritence\n",
    "Multilevel lInheritence\n",
    "Hybrid Inheritence\n",
    "Hierracial Inheritence"
   ]
  },
  {
   "cell_type": "code",
   "execution_count": 2,
   "id": "a3fdae38",
   "metadata": {},
   "outputs": [],
   "source": [
    "class Person:\n",
    "    def __init__(self, fname, lname):\n",
    "        self.first_name = fname\n",
    "        self.last_name = lname\n",
    "class Student(Person):\n",
    "    pass"
   ]
  },
  {
   "cell_type": "markdown",
   "id": "dd679976",
   "metadata": {},
   "source": [
    "Q6. How much encapsulation (making instance or class variables private) does Python support?"
   ]
  },
  {
   "cell_type": "markdown",
   "id": "317bf4ce",
   "metadata": {},
   "source": [
    " Encapsulation describes the idea of wrapping data and the methods that work on data within one unit. This puts restrictions on accessing variables and methods directly and can prevent the accidental modification of data. To prevent accidental change, an objects variable can only be changed by an objects method."
   ]
  },
  {
   "cell_type": "markdown",
   "id": "c2795449",
   "metadata": {},
   "source": [
    "Q7. How do you distinguish between a class variable and an instance variable?"
   ]
  },
  {
   "cell_type": "markdown",
   "id": "90a3ca80",
   "metadata": {},
   "source": [
    "The Class Attribute is available to all the instance objects of that class. whereas Instance Attributes are accessible only to the object or Instance of that class.\n",
    "\n",
    "A single copy of Class attributes is maintained by pvm at the class level. Whereas difference copies of instance attributes are maintained by pvm at objects/instance level."
   ]
  },
  {
   "cell_type": "markdown",
   "id": "60f2f78c",
   "metadata": {},
   "source": [
    "Q8. When, if ever, can self be included in a class's method definitions?"
   ]
  },
  {
   "cell_type": "markdown",
   "id": "36b3706c",
   "metadata": {},
   "source": [
    " Yes, self can included in class method definations to access the instance variables inside class methods."
   ]
  },
  {
   "cell_type": "markdown",
   "id": "781af2c1",
   "metadata": {},
   "source": [
    "Q9. What is the difference between the _ _add_ _ and the _ _radd_ _ methods?"
   ]
  },
  {
   "cell_type": "markdown",
   "id": "67a6321b",
   "metadata": {},
   "source": [
    "Entering __radd__ Python will first try __add__(), and if that returns Not Implemented Python will check if the right-hand operand implements __radd__, and if it does, it will call __radd__() rather than raising a TypeError"
   ]
  },
  {
   "cell_type": "markdown",
   "id": "943f44cb",
   "metadata": {},
   "source": [
    "Q10. When is it necessary to use a reflection method? When do you not need it, even though you support the operation in question?"
   ]
  },
  {
   "cell_type": "markdown",
   "id": "a35f5ae4",
   "metadata": {},
   "source": [
    "Reflection method we often encounter the requirement that a method in the executing object, or a variable in the calling object, or a field of the object should be assigned, while the method name or field name can not be determined when encoding the code, and need to be input in the form of passing strings through parameters."
   ]
  },
  {
   "cell_type": "markdown",
   "id": "c1d0e184",
   "metadata": {},
   "source": [
    "Q11. What is the _ _iadd_ _ method called?"
   ]
  },
  {
   "cell_type": "markdown",
   "id": "e80447ab",
   "metadata": {},
   "source": [
    "__iadd__ method is called when we use implementation like a+=b which is a.__iadd__(b)"
   ]
  },
  {
   "cell_type": "markdown",
   "id": "d7a9c70e",
   "metadata": {},
   "source": [
    "Q12. Is the _ _init_ _ method inherited by subclasses? What do you do if you need to customize its behavior within a subclass?"
   ]
  },
  {
   "cell_type": "markdown",
   "id": "3d22defb",
   "metadata": {},
   "source": [
    "Yes, __init__ method will be inherited by subclasses. if we want to customize its behaviour within a subclass we can use super() method."
   ]
  }
 ],
 "metadata": {
  "kernelspec": {
   "display_name": "Python 3 (ipykernel)",
   "language": "python",
   "name": "python3"
  },
  "language_info": {
   "codemirror_mode": {
    "name": "ipython",
    "version": 3
   },
   "file_extension": ".py",
   "mimetype": "text/x-python",
   "name": "python",
   "nbconvert_exporter": "python",
   "pygments_lexer": "ipython3",
   "version": "3.9.13"
  }
 },
 "nbformat": 4,
 "nbformat_minor": 5
}
