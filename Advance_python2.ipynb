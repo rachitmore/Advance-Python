{
 "cells": [
  {
   "cell_type": "markdown",
   "id": "e4168126",
   "metadata": {},
   "source": [
    "Q1. What is the relationship between classes and modules?\n",
    "\n",
    "\n",
    "\n",
    "Q2. How do you make instances and classes?\n",
    "\n",
    "\n",
    "\n",
    "Q3. Where and how should be class attributes created?\n",
    "\n",
    "\n",
    "\n",
    "Q4. Where and how are instance attributes created?\n",
    "\n",
    "\n",
    "\n",
    "Q5. What does the term \"self\" in a Python class mean?\n",
    "\n",
    "\n",
    "\n",
    "Q6. How does a Python class handle operator overloading?\n",
    "\n",
    "\n",
    "\n",
    "Q7. When do you consider allowing operator overloading of your classes?\n",
    "\n",
    "\n",
    "\n",
    "Q8. What is the most popular form of operator overloading?\n",
    "\n",
    "\n",
    "\n",
    "Q9. What are the two most important concepts to grasp in order to comprehend Python OOP code?"
   ]
  },
  {
   "cell_type": "markdown",
   "id": "b5d27288",
   "metadata": {},
   "source": [
    "Q1. What is the relationship between classes and modules?"
   ]
  },
  {
   "cell_type": "markdown",
   "id": "3fd40d87",
   "metadata": {},
   "source": [
    " Modules are collections of methods and constants. They cannot generate instances. Classes may generate instances (objects), and have per-instance state (instance variables)."
   ]
  },
  {
   "cell_type": "code",
   "execution_count": 2,
   "id": "1d80a171",
   "metadata": {},
   "outputs": [],
   "source": [
    "import collections #here collections is module from which we can use function and constant\n",
    "class Car: #Here Person is class which will help to create objects\n",
    "    pass"
   ]
  },
  {
   "cell_type": "markdown",
   "id": "87be533d",
   "metadata": {},
   "source": [
    "Q2. How do you make instances and classes?"
   ]
  },
  {
   "cell_type": "markdown",
   "id": "b4433051",
   "metadata": {},
   "source": [
    "To create instances of a class, you call the class using class name"
   ]
  },
  {
   "cell_type": "code",
   "execution_count": 3,
   "id": "c719aa3d",
   "metadata": {},
   "outputs": [],
   "source": [
    "class Person: #This is the way of making class\n",
    "    pass\n",
    "\n",
    "p1 = Person() #This is the way of making instance"
   ]
  },
  {
   "cell_type": "markdown",
   "id": "e16bbede",
   "metadata": {},
   "source": [
    "Q3. Where and how should be class attributes created?"
   ]
  },
  {
   "cell_type": "markdown",
   "id": "064abf42",
   "metadata": {},
   "source": [
    "Class attributes belong to the class itself they will be shared by all the instances"
   ]
  },
  {
   "cell_type": "code",
   "execution_count": 4,
   "id": "4d8b6637",
   "metadata": {},
   "outputs": [],
   "source": [
    "class Company:\n",
    "    companyName = \"Artificial Intelligence\" # This is the class attributes \n",
    "    "
   ]
  },
  {
   "cell_type": "markdown",
   "id": "bd3ec255",
   "metadata": {},
   "source": [
    "Q4. Where and how are instance attributes created?"
   ]
  },
  {
   "cell_type": "code",
   "execution_count": 5,
   "id": "14837054",
   "metadata": {},
   "outputs": [
    {
     "name": "stdout",
     "output_type": "stream",
     "text": [
      "Rachit More\n",
      "XYZ pvt ltd\n",
      "Anderson\n",
      "XYZ pvt ltd\n",
      "True\n",
      "False\n"
     ]
    }
   ],
   "source": [
    "class Person:\n",
    "    Company = \"XYZ pvt ltd\"\n",
    "    def __init__(self,name,age):\n",
    "        self.name = name #Here this is a instance attributes \n",
    "        self.age = age #Here this is a instance attributes\n",
    "        \n",
    "        \n",
    "p1 = Person(\"Rachit More\",25)\n",
    "p2 = Person(\"Anderson\",28)\n",
    "print(p1.name)#Here name is p1 instance attributes\n",
    "print(p1.Company)#Here company is class attributes\n",
    "print(p2.name)#Here name is p2 instance attributes\n",
    "print(p2.Company)#Here company is class attributes\n",
    "\n",
    "if p1.Company == p2.Company:# comparing Company in both instance\n",
    "    print(True)\n",
    "else:\n",
    "    print(False)\n",
    "    \n",
    "if p1.name == p2.name:# Comparing Name in both instance\n",
    "    print(True)\n",
    "else:\n",
    "    print(False)"
   ]
  },
  {
   "cell_type": "markdown",
   "id": "3d594b17",
   "metadata": {},
   "source": [
    "Q5. What does the term \"self\" in a Python class mean?"
   ]
  },
  {
   "cell_type": "markdown",
   "id": "9bfa98d2",
   "metadata": {},
   "source": [
    "The self parameter is a reference to the current instance of the class, and is used to access variables that belongs to the class.\n"
   ]
  },
  {
   "cell_type": "code",
   "execution_count": 6,
   "id": "2e633ed6",
   "metadata": {},
   "outputs": [],
   "source": [
    "class Person:\n",
    "    def __init__(self,name):#Here self parameter refer to object and whatever thing binding to self refer to instance\n",
    "        self.name = name #Here name is binding with object name so whatever value input in name get to object \n",
    "        \n",
    "p1 = Person(\"Anderson\")"
   ]
  },
  {
   "cell_type": "markdown",
   "id": "0c1eb396",
   "metadata": {},
   "source": [
    "Q6. How does a Python class handle operator overloading?"
   ]
  },
  {
   "cell_type": "markdown",
   "id": "1ad67c6b",
   "metadata": {},
   "source": [
    "Operator Overloading means giving extended meaning beyond their predefined operational meaning. For example operator + is used to add two integers as well as join two strings and merge two lists. It is achievable because ‘+’ operator is overloaded by int class and str class. You might have noticed that the same built-in operator or function shows different behavior for objects of different classes, this is called Operator Overloading. "
   ]
  },
  {
   "cell_type": "code",
   "execution_count": 7,
   "id": "9f0e6f17",
   "metadata": {},
   "outputs": [
    {
     "name": "stdout",
     "output_type": "stream",
     "text": [
      "3\n",
      "3\n",
      "RachitMore\n",
      "RachitMore\n",
      "[1, 2, 3, 4]\n",
      "[1, 2, 3, 4]\n"
     ]
    }
   ],
   "source": [
    "#Here + operator working as addtion operation in int class\n",
    "x = 1\n",
    "y = 2\n",
    "print(x + y)\n",
    "print(x.__add__(y))#Here x is int object and int object has method __add__ which takes one argument and return addition of int\n",
    "y = \"Rachit\"\n",
    "z = \"More\"\n",
    "#Here + operator working as concatenate operation in str class \n",
    "print(y + z)\n",
    "print(y.__add__(z))#Here y is str object and str object has method __add__ which takes one argument and return concatenate of str\n",
    "\n",
    "a = [1,2]\n",
    "b = [3,4]\n",
    "#Here + operator working as merge operation in list class\n",
    "print(a + b)\n",
    "print(a.__add__(b))#Here a is list object and list object has method __add__ which takes one argument and return merge of list"
   ]
  },
  {
   "cell_type": "markdown",
   "id": "0cbfed81",
   "metadata": {},
   "source": [
    "Q7. When do you consider allowing operator overloading of your classes?"
   ]
  },
  {
   "cell_type": "code",
   "execution_count": 8,
   "id": "b88e743a",
   "metadata": {},
   "outputs": [
    {
     "name": "stdout",
     "output_type": "stream",
     "text": [
      "Hello World\n",
      "<class 'str'>\n",
      "<class 'str'>\n",
      "<class '__main__.String'>\n",
      "Same type can be Concatenate\n",
      "This is not same type cannot concatenate\n"
     ]
    }
   ],
   "source": [
    "#Lets create a String class and which will have function concatenate will perform concatenate function \n",
    "class String:\n",
    "    def __init__(self, string):\n",
    "            self.string = string         \n",
    "\n",
    "s1 = String('Hello')    \n",
    "\n",
    "\n",
    "print(s1.string + \" World\")#This is allowed\n",
    "print(type(\"World\"))#here \"World\" and s1.string have same type\n",
    "print(type(s1.string))#here \"World\" and s1.string have same type\n",
    "\n",
    "# concatenate String object and a string\n",
    "# print(s1 +' world') \n",
    "print(type(s1)) #here s1 and \"World\" have difference type\n",
    "\n",
    "if type(\"World\") == type(s1.string):\n",
    "    print(\"Same type can be Concatenate\")\n",
    "else:\n",
    "    print(\"This is not same type cannot co0ncatenate\")\n",
    "    \n",
    "if type(\"World\") == type(s1):\n",
    "    print(\"Same type can be Concatenate\")\n",
    "else:\n",
    "    print(\"This is not same type cannot concatenate\")\n",
    "\n",
    "# This is not allowed as s1 is object and \"world\" because the python doesn't know how to add them.\n"
   ]
  },
  {
   "cell_type": "markdown",
   "id": "989e98fd",
   "metadata": {},
   "source": [
    "Q8. What is the most popular form of operator overloading?"
   ]
  },
  {
   "cell_type": "markdown",
   "id": "0ec75565",
   "metadata": {},
   "source": [
    "Plus Operator +\n",
    "\n",
    "Multiplication Operator *\n",
    "\n",
    "Greater than and Less than Operator Overloaded ><\n",
    "\n",
    "Equal to Operator Overloaded =="
   ]
  },
  {
   "cell_type": "markdown",
   "id": "6cb7e58b",
   "metadata": {},
   "source": [
    "Q9. What are the two most important concepts to grasp in order to comprehend Python OOP code?"
   ]
  },
  {
   "cell_type": "markdown",
   "id": "d6f4c827",
   "metadata": {},
   "source": [
    " Inheritance and polymorphism are fundamental concepts of object oriented programming."
   ]
  }
 ],
 "metadata": {
  "kernelspec": {
   "display_name": "Python 3 (ipykernel)",
   "language": "python",
   "name": "python3"
  },
  "language_info": {
   "codemirror_mode": {
    "name": "ipython",
    "version": 3
   },
   "file_extension": ".py",
   "mimetype": "text/x-python",
   "name": "python",
   "nbconvert_exporter": "python",
   "pygments_lexer": "ipython3",
   "version": "3.9.13"
  }
 },
 "nbformat": 4,
 "nbformat_minor": 5
}
