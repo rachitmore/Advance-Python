{
 "cells": [
  {
   "cell_type": "markdown",
   "id": "e2c82ed2",
   "metadata": {},
   "source": [
    "Q1. What is the purpose of Python's OOP?\n",
    "\n",
    "\n",
    "\n",
    "Q2. Where does an inheritance search look for an attribute?\n",
    "\n",
    "\n",
    "\n",
    "Q3. How do you distinguish between a class object and an instance object?\n",
    "\n",
    "\n",
    "\n",
    "Q4. What makes the first argument in a class’s method function special?\n",
    "\n",
    "\n",
    "\n",
    "Q5. What is the purpose of the __init__ method?\n",
    "\n",
    "\n",
    "\n",
    "Q6. What is the process for creating a class instance?\n",
    "\n",
    "\n",
    "\n",
    "Q7. What is the process for creating a class?\n",
    "\n",
    "\n",
    "\n",
    "Q8. How would you define the superclasses of a class?"
   ]
  },
  {
   "cell_type": "markdown",
   "id": "448b95de",
   "metadata": {},
   "source": [
    "Q1. What is the purpose of Python's OOP?"
   ]
  },
  {
   "cell_type": "markdown",
   "id": "175a66dc",
   "metadata": {},
   "source": [
    "OOP is about code reuse — you factor code to minimize redundancy and program by customizing what already exists instead of changing code in place or starting from scratch."
   ]
  },
  {
   "cell_type": "code",
   "execution_count": 2,
   "id": "dc83e008",
   "metadata": {},
   "outputs": [
    {
     "name": "stdout",
     "output_type": "stream",
     "text": [
      "Here We have created three object with one class and all object has method show \n",
      "('John', 26)\n",
      "('Tom', 28)\n",
      "('David', 30)\n",
      "We don't have to write show method for all individual\n"
     ]
    }
   ],
   "source": [
    "class Person:\n",
    "    def __init__(self,name,age):\n",
    "        self.name = name \n",
    "        self.age = age\n",
    "        \n",
    "    def show(self):\n",
    "        return self.name,self.age\n",
    "    \n",
    "p1 = Person(\"John\",26)\n",
    "p2 = Person(\"Tom\",28)\n",
    "p3 = Person(\"David\",30)\n",
    "print(\"Here We have created three object with one class and all object has method show \")\n",
    "print(p1.show())\n",
    "print(p2.show())\n",
    "print(p3.show())\n",
    "print(\"We don't have to write show method for all individual\")"
   ]
  },
  {
   "cell_type": "markdown",
   "id": "b3ad2fc1",
   "metadata": {},
   "source": [
    "Q2. Where does an inheritance search look for an attribute?"
   ]
  },
  {
   "cell_type": "markdown",
   "id": "5eabdb22",
   "metadata": {},
   "source": [
    "An inheritance search looks for an attribute first in the instance object, then in the class the instance was created from, then in all higher superclasses, progressing from left to right. The search stops at the first place the attribute is found."
   ]
  },
  {
   "cell_type": "code",
   "execution_count": 3,
   "id": "e61e9869",
   "metadata": {},
   "outputs": [],
   "source": [
    "class Company():\n",
    "    Company_Name = \"Amazon\"\n",
    "\n",
    "class Employee(Company):\n",
    "    def __init__(self,name,age):\n",
    "        self.name = name \n",
    "        self.age = age\n",
    "    \n",
    "em1 = Employee(\"John\",28) #Here object em1 looks for an attribute in the instance \n",
    "# which is name and age and then class Company which Company_name  "
   ]
  },
  {
   "cell_type": "markdown",
   "id": "34f9a7e1",
   "metadata": {},
   "source": [
    "Q3. How do you distinguish between a class object and an instance object?"
   ]
  },
  {
   "cell_type": "markdown",
   "id": "c163286d",
   "metadata": {},
   "source": [
    "Classes are a kind of factory for creating multiple instances. Classes also support operator overloading methods, which instances inherit, and treat any functions nested in the class as methods for processing instances."
   ]
  },
  {
   "cell_type": "code",
   "execution_count": 4,
   "id": "f64acffe",
   "metadata": {},
   "outputs": [
    {
     "name": "stdout",
     "output_type": "stream",
     "text": [
      "<class 'type'>\n",
      "<class '__main__.Person'>\n"
     ]
    }
   ],
   "source": [
    "print(type(Person)) # Here Person is class type \n",
    "print(type(p1)) # Here p1 is object of class type"
   ]
  },
  {
   "cell_type": "markdown",
   "id": "74f7eac4",
   "metadata": {},
   "source": [
    "Q4. What makes the first argument in a class’s method function special?"
   ]
  },
  {
   "cell_type": "markdown",
   "id": "8a87482d",
   "metadata": {},
   "source": [
    "It always receives the instance object that is the implied subject of the method call. It’s usually called ‘self’ by convention."
   ]
  },
  {
   "cell_type": "code",
   "execution_count": 5,
   "id": "9dcbab5f",
   "metadata": {},
   "outputs": [
    {
     "data": {
      "text/plain": [
       "'This is show method'"
      ]
     },
     "execution_count": 5,
     "metadata": {},
     "output_type": "execute_result"
    }
   ],
   "source": [
    "class Person:\n",
    "    def show(self):\n",
    "        return \"This is show method\"\n",
    "\n",
    "p1 = Person() #Here p1 instance has been created    \n",
    "Person.show(p1) #Here method show took one argument which is p1 because it is called by class Person\n",
    "p1.show() #here method show took none argrument because it is called by object p1\n",
    "#Therefore method show took p1 as a self argument "
   ]
  },
  {
   "cell_type": "markdown",
   "id": "75c0d33e",
   "metadata": {},
   "source": [
    "Q5. What is the purpose of the __init__ method?"
   ]
  },
  {
   "cell_type": "markdown",
   "id": "0874c18b",
   "metadata": {},
   "source": [
    "If the __init__ method is coded or inherited in a class, Python calls it automatically each time an instance of that class is created."
   ]
  },
  {
   "cell_type": "code",
   "execution_count": 6,
   "id": "45e3cadd",
   "metadata": {},
   "outputs": [
    {
     "name": "stdout",
     "output_type": "stream",
     "text": [
      "Rachit More\n",
      "Data Science\n"
     ]
    }
   ],
   "source": [
    "class Student:\n",
    "    def __init__(self,name,age):\n",
    "        self.name = name \n",
    "        self.age = age \n",
    "        \n",
    "    def show(self):\n",
    "        self.course = \"Data Science\"\n",
    "        return self.course\n",
    "    \n",
    "s1 = Student(\"Rachit More\",25)\n",
    "print(s1.name) #Here We do not have to call __init__ method it will called every time instance created \n",
    "print(s1.show())#here We have to call show method to get the show method attribute"
   ]
  },
  {
   "cell_type": "markdown",
   "id": "75017d07",
   "metadata": {},
   "source": [
    "Q6. What is the process for creating a class instance?"
   ]
  },
  {
   "cell_type": "markdown",
   "id": "91053f83",
   "metadata": {},
   "source": [
    "You create a class instance by calling the class name as though it were a function; any arguments passed into the class name show up as arguments two and beyond in the __init__ constructor method."
   ]
  },
  {
   "cell_type": "code",
   "execution_count": 7,
   "id": "59f5bb40",
   "metadata": {},
   "outputs": [],
   "source": [
    "class College:\n",
    "    def __init__(self,name):\n",
    "        self.name = name\n",
    "        \n",
    "c1 = College(\"IITM\")\n",
    "#here c1 is class instance"
   ]
  },
  {
   "cell_type": "markdown",
   "id": "9f8b97c2",
   "metadata": {},
   "source": [
    "Q7. What is the process for creating a class?"
   ]
  },
  {
   "cell_type": "code",
   "execution_count": 8,
   "id": "59aa19cb",
   "metadata": {},
   "outputs": [],
   "source": [
    "class Person:\n",
    "    def __init__(self):\n",
    "        self.name = \"Rachit More\"\n",
    "        self.age = 25\n",
    "        \n",
    "    def show(self):\n",
    "        return \"This is parent class\""
   ]
  },
  {
   "cell_type": "markdown",
   "id": "88090b5a",
   "metadata": {},
   "source": [
    "Q8. How would you define the superclasses of a class?"
   ]
  },
  {
   "cell_type": "markdown",
   "id": "a3951e81",
   "metadata": {},
   "source": [
    "The class from which a class inherits is called the parent or superclass. A class which inherits from a superclass is called a subclass, also called heir class or child class. Superclasses are sometimes called ancestors as well"
   ]
  },
  {
   "cell_type": "code",
   "execution_count": 9,
   "id": "b85c1290",
   "metadata": {},
   "outputs": [
    {
     "name": "stdout",
     "output_type": "stream",
     "text": [
      "This is parent class\n",
      "This is child class\n"
     ]
    }
   ],
   "source": [
    "#here Person is Super class\n",
    "class Student(Person):\n",
    "    def __init__(self,college,enrollment):\n",
    "        self.college = college\n",
    "        self.enrollment = enrollment\n",
    "    \n",
    "    def shown(self):\n",
    "        return \"This is child class\"\n",
    "        \n",
    "        \n",
    "s1 = Student(\"IIT\",123)\n",
    "print(s1.show())#Here show method from parent class\n",
    "print(s1.shown())#here shown method for child class"
   ]
  },
  {
   "cell_type": "code",
   "execution_count": null,
   "id": "fe18600d",
   "metadata": {},
   "outputs": [],
   "source": []
  }
 ],
 "metadata": {
  "kernelspec": {
   "display_name": "Python 3 (ipykernel)",
   "language": "python",
   "name": "python3"
  },
  "language_info": {
   "codemirror_mode": {
    "name": "ipython",
    "version": 3
   },
   "file_extension": ".py",
   "mimetype": "text/x-python",
   "name": "python",
   "nbconvert_exporter": "python",
   "pygments_lexer": "ipython3",
   "version": "3.9.13"
  }
 },
 "nbformat": 4,
 "nbformat_minor": 5
}
